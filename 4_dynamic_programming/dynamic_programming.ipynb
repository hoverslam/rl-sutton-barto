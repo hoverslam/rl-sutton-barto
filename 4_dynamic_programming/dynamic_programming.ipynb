{
 "cells": [
  {
   "cell_type": "code",
   "execution_count": 1,
   "metadata": {},
   "outputs": [],
   "source": [
    "# Import libraries\n",
    "import numpy as np\n",
    "\n",
    "# Custom modules\n",
    "import sys \n",
    "sys.path.append('../environments/')\n",
    "import gridworlds\n",
    "from dp import policy_evaluation, policy_iteration, value_iteration"
   ]
  },
  {
   "cell_type": "markdown",
   "metadata": {},
   "source": [
    "# Dynamic Programming"
   ]
  },
  {
   "cell_type": "code",
   "execution_count": 2,
   "metadata": {},
   "outputs": [],
   "source": [
    "def print_value_function(V, env):\n",
    "    iterations = V[1]\n",
    "    V = np.reshape(V[0], env.size)\n",
    "    print(\"Policy evaluated after {} iterations:\".format(iterations))\n",
    "    print(np.round(V, 1))\n",
    "    \n",
    "def print_policy(pi, env):\n",
    "    pi = np.reshape(np.argmax(pi, axis=1), env.size)\n",
    "    pi = pi.astype(str)\n",
    "    pi[pi==\"0\"] = \"U\" \n",
    "    pi[pi==\"1\"] = \"R\" \n",
    "    pi[pi==\"2\"] = \"D\" \n",
    "    pi[pi==\"3\"] = \"L\" \n",
    "    print(pi)"
   ]
  },
  {
   "cell_type": "markdown",
   "metadata": {},
   "source": [
    "## Policy evaluation"
   ]
  },
  {
   "cell_type": "code",
   "execution_count": 3,
   "metadata": {},
   "outputs": [
    {
     "name": "stdout",
     "output_type": "stream",
     "text": [
      "Policy evaluated after 425 iterations:\n",
      "[[  0. -14. -20. -22.]\n",
      " [-14. -18. -20. -20.]\n",
      " [-20. -20. -18. -14.]\n",
      " [-22. -20. -14.   0.]]\n"
     ]
    }
   ],
   "source": [
    "# 4x4 Grid (Sutton & Barto, 2018, page 76) with equiprobable random policy\n",
    "env = gridworlds.Grid_4x4_Sutton()\n",
    "pi = np.ones([len(env.state_space()), len(env.action_space())]) / len(env.action_space())\n",
    "V = policy_evaluation(pi, env, gamma=1)\n",
    "print_value_function(V, env)\n"
   ]
  },
  {
   "cell_type": "code",
   "execution_count": 4,
   "metadata": {},
   "outputs": [
    {
     "name": "stdout",
     "output_type": "stream",
     "text": [
      "Policy evaluated after 176 iterations:\n",
      "[[ 3.3  8.8  4.4  5.3  1.5]\n",
      " [ 1.5  3.   2.3  1.9  0.5]\n",
      " [ 0.1  0.7  0.7  0.4 -0.4]\n",
      " [-1.  -0.4 -0.4 -0.6 -1.2]\n",
      " [-1.9 -1.3 -1.2 -1.4 -2. ]]\n"
     ]
    }
   ],
   "source": [
    "# 5x5 Grid (Sutton & Barto, 2018, page 60) with equiprobable random policy\n",
    "env = gridworlds.Grid_5x5_Sutton()\n",
    "pi = np.ones([len(env.state_space()), len(env.action_space())]) / len(env.action_space())\n",
    "V = policy_evaluation(pi, env, gamma=0.9)\n",
    "print_value_function(V, env)"
   ]
  },
  {
   "cell_type": "code",
   "execution_count": 5,
   "metadata": {},
   "outputs": [
    {
     "name": "stdout",
     "output_type": "stream",
     "text": [
      "Policy evaluated after 526 iterations:\n",
      "[[-1.2 -0.8 -0.3  0. ]\n",
      " [-1.5  0.  -0.9  0. ]\n",
      " [-1.5 -1.5 -1.2 -1.2]]\n"
     ]
    }
   ],
   "source": [
    "# 3x4 Grid (Russell & Norvig, 2020, page 842) with equiprobable random policy\n",
    "env = gridworlds.Grid_3x4_RNG()\n",
    "pi = np.ones([len(env.state_space()), len(env.action_space())]) / len(env.action_space())\n",
    "V = policy_evaluation(pi, env)\n",
    "print_value_function(V, env)"
   ]
  },
  {
   "cell_type": "markdown",
   "metadata": {},
   "source": [
    "## Policy Iteration"
   ]
  },
  {
   "cell_type": "code",
   "execution_count": 6,
   "metadata": {},
   "outputs": [
    {
     "name": "stdout",
     "output_type": "stream",
     "text": [
      "[[ 0. -1. -2. -3.]\n",
      " [-1. -2. -3. -2.]\n",
      " [-2. -3. -2. -1.]\n",
      " [-3. -2. -1.  0.]]\n",
      "\n",
      "[['U' 'L' 'L' 'D']\n",
      " ['U' 'U' 'U' 'D']\n",
      " ['U' 'U' 'R' 'D']\n",
      " ['U' 'R' 'R' 'U']]\n"
     ]
    }
   ],
   "source": [
    "# 4x4 Grid (Sutton & Barto, 2018, page 76)\n",
    "env = gridworlds.Grid_4x4_Sutton()\n",
    "pi, V = policy_iteration(env)\n",
    "V = np.round(np.reshape(V, env.size), 1)\n",
    "print(V)\n",
    "print(\"\")\n",
    "print_policy(pi, env)"
   ]
  },
  {
   "cell_type": "code",
   "execution_count": 7,
   "metadata": {},
   "outputs": [
    {
     "name": "stdout",
     "output_type": "stream",
     "text": [
      "[[22.  24.4 22.  19.4 17.5]\n",
      " [19.8 22.  19.8 17.8 16. ]\n",
      " [17.8 19.8 17.8 16.  14.4]\n",
      " [16.  17.8 16.  14.4 13. ]\n",
      " [14.4 16.  14.4 13.  11.7]]\n",
      "\n",
      "[['R' 'U' 'L' 'U' 'L']\n",
      " ['U' 'U' 'U' 'L' 'L']\n",
      " ['U' 'U' 'U' 'U' 'U']\n",
      " ['U' 'U' 'U' 'U' 'U']\n",
      " ['U' 'U' 'U' 'U' 'U']]\n"
     ]
    }
   ],
   "source": [
    "# 5x5 Grid (Sutton & Barto, 2018, page 60)\n",
    "env = gridworlds.Grid_5x5_Sutton()\n",
    "pi, V = policy_iteration(env, gamma=0.9)\n",
    "V = np.round(np.reshape(V, env.size), 1)\n",
    "print(V)\n",
    "print(\"\")\n",
    "print_policy(pi, env)"
   ]
  },
  {
   "cell_type": "code",
   "execution_count": 8,
   "metadata": {},
   "outputs": [
    {
     "name": "stdout",
     "output_type": "stream",
     "text": [
      "[[0.9 0.9 1.  0. ]\n",
      " [0.8 0.  0.7 0. ]\n",
      " [0.7 0.7 0.7 0.4]]\n",
      "\n",
      "[['R' 'R' 'R' 'U']\n",
      " ['U' 'U' 'U' 'U']\n",
      " ['U' 'L' 'L' 'L']]\n"
     ]
    }
   ],
   "source": [
    "# 3x4 Grid (Russell & Norvig, 2020, page 842)\n",
    "env = gridworlds.Grid_3x4_RNG()\n",
    "pi, V = policy_iteration(env)\n",
    "V = np.round(np.reshape(V, env.size), 1)\n",
    "print(V)\n",
    "print(\"\")\n",
    "print_policy(pi, env)"
   ]
  },
  {
   "cell_type": "markdown",
   "metadata": {},
   "source": [
    "## Value iteration"
   ]
  },
  {
   "cell_type": "code",
   "execution_count": 9,
   "metadata": {},
   "outputs": [
    {
     "name": "stdout",
     "output_type": "stream",
     "text": [
      "[[ 0. -1. -2. -3.]\n",
      " [-1. -2. -3. -2.]\n",
      " [-2. -3. -2. -1.]\n",
      " [-3. -2. -1.  0.]]\n",
      "\n",
      "[['U' 'L' 'L' 'D']\n",
      " ['U' 'U' 'U' 'D']\n",
      " ['U' 'U' 'R' 'D']\n",
      " ['U' 'R' 'R' 'U']]\n"
     ]
    }
   ],
   "source": [
    "# 4x4 Grid (Sutton & Barto, 2018, page 76)\n",
    "env = gridworlds.Grid_4x4_Sutton()\n",
    "pi, V = value_iteration(env)\n",
    "V = np.round(np.reshape(V, env.size), 1)\n",
    "print(V)\n",
    "print(\"\")\n",
    "print_policy(pi, env)"
   ]
  },
  {
   "cell_type": "code",
   "execution_count": 10,
   "metadata": {},
   "outputs": [
    {
     "name": "stdout",
     "output_type": "stream",
     "text": [
      "[[22.  24.4 22.  19.4 17.5]\n",
      " [19.8 22.  19.8 17.8 16. ]\n",
      " [17.8 19.8 17.8 16.  14.4]\n",
      " [16.  17.8 16.  14.4 13. ]\n",
      " [14.4 16.  14.4 13.  11.7]]\n",
      "\n",
      "[['R' 'U' 'L' 'U' 'L']\n",
      " ['U' 'U' 'U' 'L' 'L']\n",
      " ['U' 'U' 'U' 'U' 'U']\n",
      " ['U' 'U' 'U' 'U' 'U']\n",
      " ['U' 'U' 'U' 'U' 'U']]\n"
     ]
    }
   ],
   "source": [
    "# 5x5 Grid (Sutton & Barto, 2018, page 60)\n",
    "env = gridworlds.Grid_5x5_Sutton()\n",
    "pi, V = value_iteration(env, gamma=0.9)\n",
    "V = np.round(np.reshape(V, env.size), 1)\n",
    "print(V)\n",
    "print(\"\")\n",
    "print_policy(pi, env)"
   ]
  },
  {
   "cell_type": "code",
   "execution_count": 11,
   "metadata": {},
   "outputs": [
    {
     "name": "stdout",
     "output_type": "stream",
     "text": [
      "[[0.9 0.9 1.  0. ]\n",
      " [0.8 0.  0.7 0. ]\n",
      " [0.7 0.7 0.7 0.4]]\n",
      "\n",
      "[['R' 'R' 'R' 'U']\n",
      " ['U' 'U' 'U' 'U']\n",
      " ['U' 'L' 'L' 'L']]\n"
     ]
    }
   ],
   "source": [
    "# 3x4 Grid (Russell & Norvig, 2020, page 842)\n",
    "env = gridworlds.Grid_3x4_RNG()\n",
    "pi, V = value_iteration(env)\n",
    "V = np.round(np.reshape(V, env.size), 1)\n",
    "print(V)\n",
    "print(\"\")\n",
    "print_policy(pi, env)"
   ]
  }
 ],
 "metadata": {
  "interpreter": {
   "hash": "85f7773d3105cb3dc6bc45be24bbc1555786e7a085c2af831023dfea0fc693f0"
  },
  "kernelspec": {
   "display_name": "Python 3.10.1 ('.venv': venv)",
   "language": "python",
   "name": "python3"
  },
  "language_info": {
   "codemirror_mode": {
    "name": "ipython",
    "version": 3
   },
   "file_extension": ".py",
   "mimetype": "text/x-python",
   "name": "python",
   "nbconvert_exporter": "python",
   "pygments_lexer": "ipython3",
   "version": "3.10.1"
  },
  "orig_nbformat": 4
 },
 "nbformat": 4,
 "nbformat_minor": 2
}
