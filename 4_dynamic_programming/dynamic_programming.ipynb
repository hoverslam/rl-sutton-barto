{
 "cells": [
  {
   "cell_type": "code",
   "execution_count": 2,
   "metadata": {},
   "outputs": [],
   "source": [
    "# Import libraries\n",
    "import numpy as np\n",
    "import matplotlib.pyplot as plt\n",
    "\n",
    "# Custom modules\n",
    "import sys \n",
    "sys.path.append('../environments/')\n",
    "import gridworlds\n",
    "from dp import policy_evaluation\n"
   ]
  },
  {
   "cell_type": "markdown",
   "metadata": {},
   "source": [
    "# Dynamic Programming"
   ]
  },
  {
   "cell_type": "code",
   "execution_count": 12,
   "metadata": {},
   "outputs": [],
   "source": [
    "env = gridworlds.Grid_4x4()\n",
    "state_space_n = len(env.state_space())\n",
    "action_space_n = len(env.action_space())"
   ]
  },
  {
   "cell_type": "markdown",
   "metadata": {},
   "source": [
    "## Policy evaluation"
   ]
  },
  {
   "cell_type": "code",
   "execution_count": 13,
   "metadata": {},
   "outputs": [
    {
     "name": "stdout",
     "output_type": "stream",
     "text": [
      "Policy evaluated after 263 iterations:\n",
      "[[  0. -14. -20. -22.]\n",
      " [-14. -18. -20. -20.]\n",
      " [-20. -20. -18. -14.]\n",
      " [-22. -20. -14.   0.]]\n"
     ]
    }
   ],
   "source": [
    "pi = np.ones([state_space_n, action_space_n]) / action_space_n   # equiprobable random policy\n",
    "V = policy_evaluation(pi, env)\n",
    "print('Policy evaluated after {} iterations:'.format(V[1]))\n",
    "print(np.round(np.reshape(V[0], env.size), 4))"
   ]
  }
 ],
 "metadata": {
  "interpreter": {
   "hash": "85f7773d3105cb3dc6bc45be24bbc1555786e7a085c2af831023dfea0fc693f0"
  },
  "kernelspec": {
   "display_name": "Python 3.10.1 ('.venv': venv)",
   "language": "python",
   "name": "python3"
  },
  "language_info": {
   "codemirror_mode": {
    "name": "ipython",
    "version": 3
   },
   "file_extension": ".py",
   "mimetype": "text/x-python",
   "name": "python",
   "nbconvert_exporter": "python",
   "pygments_lexer": "ipython3",
   "version": "3.10.1"
  },
  "orig_nbformat": 4
 },
 "nbformat": 4,
 "nbformat_minor": 2
}
