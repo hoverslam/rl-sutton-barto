{
 "cells": [
  {
   "cell_type": "code",
   "execution_count": 1,
   "metadata": {},
   "outputs": [],
   "source": [
    "# Import libraries\n",
    "import numpy as np\n",
    "import matplotlib.pyplot as plt\n",
    "\n",
    "# Custom modules\n",
    "import sys \n",
    "sys.path.append('../environments/')\n",
    "import gridworlds\n",
    "from dp import policy_evaluation, policy_iteration"
   ]
  },
  {
   "cell_type": "markdown",
   "metadata": {},
   "source": [
    "# Dynamic Programming"
   ]
  },
  {
   "cell_type": "code",
   "execution_count": 2,
   "metadata": {},
   "outputs": [],
   "source": [
    "def plot_value_functions(V, env):\n",
    "    plt.figure(figsize=(9, 7))\n",
    "    plt.imshow(np.reshape(V[0], env.size), cmap='RdYlGn')\n",
    "    plt.title('Value-functions after {} interations'.format(V[1]))\n",
    "    plt.axis('off')\n",
    "    plt.colorbar()\n",
    "    plt.show()\n",
    "    \n",
    "def print_policy(pi, env):\n",
    "    pi = np.reshape(np.argmax(pi, axis=1), env.size)\n",
    "    pi = pi.astype(str)\n",
    "    pi[pi==\"0\"] = \"U\" \n",
    "    pi[pi==\"1\"] = \"R\" \n",
    "    pi[pi==\"2\"] = \"D\" \n",
    "    pi[pi==\"3\"] = \"L\" \n",
    "    print(pi)"
   ]
  },
  {
   "cell_type": "markdown",
   "metadata": {},
   "source": [
    "## Policy evaluation"
   ]
  },
  {
   "cell_type": "code",
   "execution_count": 3,
   "metadata": {},
   "outputs": [
    {
     "data": {
      "image/png": "[encoded data removed]",
      "text/plain": [
       "<Figure size 648x504 with 2 Axes>"
      ]
     },
     "metadata": {
      "needs_background": "light"
     },
     "output_type": "display_data"
    }
   ],
   "source": [
    "# 4x4 Grid (Sutton & Barto, 2018, page 76) with equiprobable random policy\n",
    "env = gridworlds.Grid_4x4_Sutton()\n",
    "pi = np.ones([len(env.state_space()), len(env.action_space())]) / len(env.action_space())\n",
    "V = policy_evaluation(pi, env, gamma=1)\n",
    "plot_value_functions(V, env)\n"
   ]
  },
  {
   "cell_type": "code",
   "execution_count": 4,
   "metadata": {},
   "outputs": [
    {
     "data": {
      "image/png": "[encoded data removed]",
      "text/plain": [
       "<Figure size 648x504 with 2 Axes>"
      ]
     },
     "metadata": {
      "needs_background": "light"
     },
     "output_type": "display_data"
    }
   ],
   "source": [
    "# 5x5 Grid (Sutton & Barto, 2018, page 60) with equiprobable random policy\n",
    "env = gridworlds.Grid_5x5_Sutton()\n",
    "pi = np.ones([len(env.state_space()), len(env.action_space())]) / len(env.action_space())\n",
    "V = policy_evaluation(pi, env, gamma=0.9)\n",
    "plot_value_functions(V, env)"
   ]
  },
  {
   "cell_type": "code",
   "execution_count": 5,
   "metadata": {},
   "outputs": [
    {
     "data": {
      "image/png": "[encoded data removed]",
      "text/plain": [
       "<Figure size 648x504 with 2 Axes>"
      ]
     },
     "metadata": {
      "needs_background": "light"
     },
     "output_type": "display_data"
    }
   ],
   "source": [
    "# 3x4 Grid (Russell & Norvig, 2020, page 842) with equiprobable random policy\n",
    "env = gridworlds.Grid_3x4_RNG()\n",
    "pi = np.ones([len(env.state_space()), len(env.action_space())]) / len(env.action_space())\n",
    "V = policy_evaluation(pi, env)\n",
    "plot_value_functions(V, env)"
   ]
  },
  {
   "cell_type": "markdown",
   "metadata": {},
   "source": [
    "## Policy Iteration"
   ]
  },
  {
   "cell_type": "code",
   "execution_count": 6,
   "metadata": {},
   "outputs": [
    {
     "name": "stdout",
     "output_type": "stream",
     "text": [
      "[['U' 'L' 'L' 'D']\n",
      " ['U' 'U' 'U' 'D']\n",
      " ['U' 'U' 'R' 'D']\n",
      " ['U' 'R' 'R' 'U']]\n"
     ]
    }
   ],
   "source": [
    "# 4x4 Grid (Sutton & Barto, 2018, page 76)\n",
    "env = gridworlds.Grid_4x4_Sutton()\n",
    "pi = policy_iteration(env)\n",
    "print_policy(pi, env)"
   ]
  },
  {
   "cell_type": "code",
   "execution_count": 7,
   "metadata": {},
   "outputs": [
    {
     "name": "stdout",
     "output_type": "stream",
     "text": [
      "[['R' 'U' 'L' 'U' 'L']\n",
      " ['U' 'U' 'U' 'L' 'L']\n",
      " ['U' 'U' 'U' 'U' 'U']\n",
      " ['U' 'U' 'U' 'U' 'U']\n",
      " ['U' 'U' 'U' 'U' 'U']]\n"
     ]
    }
   ],
   "source": [
    "# 5x5 Grid (Sutton & Barto, 2018, page 60)\n",
    "env = gridworlds.Grid_5x5_Sutton()\n",
    "pi = policy_iteration(env, gamma=0.9)\n",
    "print_policy(pi, env)"
   ]
  },
  {
   "cell_type": "code",
   "execution_count": 8,
   "metadata": {},
   "outputs": [
    {
     "name": "stdout",
     "output_type": "stream",
     "text": [
      "[['R' 'R' 'R' 'U']\n",
      " ['U' 'U' 'U' 'U']\n",
      " ['U' 'L' 'L' 'L']]\n"
     ]
    }
   ],
   "source": [
    "# 3x4 Grid (Russell & Norvig, 2020, page 842)\n",
    "env = gridworlds.Grid_3x4_RNG()\n",
    "pi = policy_iteration(env)\n",
    "print_policy(pi, env)"
   ]
  }
 ],
 "metadata": {
  "interpreter": {
   "hash": "85f7773d3105cb3dc6bc45be24bbc1555786e7a085c2af831023dfea0fc693f0"
  },
  "kernelspec": {
   "display_name": "Python 3.10.1 ('.venv': venv)",
   "language": "python",
   "name": "python3"
  },
  "language_info": {
   "codemirror_mode": {
    "name": "ipython",
    "version": 3
   },
   "file_extension": ".py",
   "mimetype": "text/x-python",
   "name": "python",
   "nbconvert_exporter": "python",
   "pygments_lexer": "ipython3",
   "version": "3.10.1"
  },
  "orig_nbformat": 4
 },
 "nbformat": 4,
 "nbformat_minor": 2
}
